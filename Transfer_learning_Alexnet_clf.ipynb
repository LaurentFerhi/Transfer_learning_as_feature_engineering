{
 "cells": [
  {
   "cell_type": "markdown",
   "metadata": {},
   "source": [
    "# Transfer learning"
   ]
  },
  {
   "cell_type": "code",
   "execution_count": 76,
   "metadata": {},
   "outputs": [],
   "source": [
    "import os\n",
    "from IPython.display import display, clear_output\n",
    "import shutil\n",
    "import random\n",
    "from tqdm import tqdm\n",
    "import pickle as pk\n",
    "\n",
    "import pandas as pd\n",
    "import numpy as np\n",
    "\n",
    "from PIL import Image\n",
    "import torch\n",
    "from torch import nn\n",
    "from torchvision import transforms\n",
    "from torchvision import datasets\n",
    "import torchvision.models as models\n",
    "\n",
    "from sklearn.model_selection import train_test_split\n",
    "from sklearn.model_selection import StratifiedShuffleSplit\n",
    "from sklearn.ensemble import RandomForestClassifier\n",
    "from sklearn.pipeline import Pipeline\n",
    "from sklearn.model_selection import GridSearchCV\n",
    "from sklearn.metrics import confusion_matrix, classification_report\n",
    "\n",
    "import matplotlib.pyplot as plt\n",
    "import seaborn as sns\n",
    "sns.set()"
   ]
  },
  {
   "cell_type": "markdown",
   "metadata": {},
   "source": [
    "### Make train and test directories"
   ]
  },
  {
   "cell_type": "code",
   "execution_count": 2,
   "metadata": {},
   "outputs": [],
   "source": [
    "# Create train and test folders\n",
    "for train_test_dir in ['train/','test/']:\n",
    "    try:\n",
    "        os.mkdir('data/'+train_test_dir)\n",
    "    except:\n",
    "        pass"
   ]
  },
  {
   "cell_type": "code",
   "execution_count": 3,
   "metadata": {},
   "outputs": [],
   "source": [
    "# Define training and test data directories\n",
    "data_dir = 'data/'\n",
    "dataset_dir = os.path.join(data_dir, 'dataset/')\n",
    "train_dir = os.path.join(data_dir, 'train/')\n",
    "test_dir = os.path.join(data_dir, 'test/')"
   ]
  },
  {
   "cell_type": "code",
   "execution_count": 4,
   "metadata": {},
   "outputs": [
    {
     "name": "stderr",
     "output_type": "stream",
     "text": [
      "100%|████████████████████████████████████████████████████████████████████████████████| 145/145 [02:20<00:00,  1.03it/s]\n"
     ]
    }
   ],
   "source": [
    "for subdir in tqdm(os.listdir(dataset_dir)):\n",
    "    l = os.listdir(dataset_dir+subdir)\n",
    "    train, test, _ , _ = train_test_split(l,[subdir for i in range(len(l))],test_size=0.2, random_state=42)\n",
    "    \n",
    "    # Create subdirectories in test and train folders\n",
    "    for train_test_dir in ['train/','test/']:\n",
    "        try:\n",
    "            os.mkdir('data/'+train_test_dir+subdir)\n",
    "        except:\n",
    "            pass\n",
    "    \n",
    "    # Populate train and test folders\n",
    "    for item in [dataset_dir+subdir+'/'+f for f in train] :\n",
    "        shutil.copy(item, train_dir+subdir)\n",
    "\n",
    "    for item in [dataset_dir+subdir+'/'+f for f in test] :\n",
    "        shutil.copy(item, test_dir+subdir)"
   ]
  },
  {
   "cell_type": "code",
   "execution_count": 5,
   "metadata": {
    "scrolled": false
   },
   "outputs": [
    {
     "data": {
      "image/png": "[encoded data removed]",
      "text/plain": [
       "<Figure size 1008x432 with 10 Axes>"
      ]
     },
     "metadata": {
      "needs_background": "light"
     },
     "output_type": "display_data"
    }
   ],
   "source": [
    "fig,ax = plt.subplots(figsize=(14,6))\n",
    "\n",
    "lines=2\n",
    "cols=5\n",
    "i=1\n",
    "\n",
    "# sample from train dir\n",
    "for subdir in os.listdir(train_dir)[10:20]:\n",
    "    sample = random.sample(os.listdir(train_dir+subdir),1)[0]\n",
    "    im = Image.open(train_dir+subdir+'/'+sample)\n",
    "    plt.subplot(lines,cols,i)\n",
    "    plt.imshow(np.asarray(im))\n",
    "    plt.axis('off')\n",
    "    plt.title(subdir)\n",
    "    i+=1"
   ]
  },
  {
   "cell_type": "markdown",
   "metadata": {},
   "source": [
    "### Extract features out of convolutional layer"
   ]
  },
  {
   "cell_type": "code",
   "execution_count": 6,
   "metadata": {},
   "outputs": [
    {
     "name": "stdout",
     "output_type": "stream",
     "text": [
      "Sequential(\n",
      "  (0): Conv2d(3, 64, kernel_size=(11, 11), stride=(4, 4), padding=(2, 2))\n",
      "  (1): ReLU(inplace=True)\n",
      "  (2): MaxPool2d(kernel_size=3, stride=2, padding=0, dilation=1, ceil_mode=False)\n",
      "  (3): Conv2d(64, 192, kernel_size=(5, 5), stride=(1, 1), padding=(2, 2))\n",
      "  (4): ReLU(inplace=True)\n",
      "  (5): MaxPool2d(kernel_size=3, stride=2, padding=0, dilation=1, ceil_mode=False)\n",
      "  (6): Conv2d(192, 384, kernel_size=(3, 3), stride=(1, 1), padding=(1, 1))\n",
      "  (7): ReLU(inplace=True)\n",
      "  (8): Conv2d(384, 256, kernel_size=(3, 3), stride=(1, 1), padding=(1, 1))\n",
      "  (9): ReLU(inplace=True)\n",
      "  (10): Conv2d(256, 256, kernel_size=(3, 3), stride=(1, 1), padding=(1, 1))\n",
      "  (11): ReLU(inplace=True)\n",
      "  (12): MaxPool2d(kernel_size=3, stride=2, padding=0, dilation=1, ceil_mode=False)\n",
      ")\n"
     ]
    }
   ],
   "source": [
    "torch.multiprocessing.set_sharing_strategy('file_system')\n",
    "\n",
    "# Load model\n",
    "conv_layer = models.alexnet(pretrained=True)\n",
    "print(conv_layer.features)"
   ]
  },
  {
   "cell_type": "code",
   "execution_count": 7,
   "metadata": {},
   "outputs": [
    {
     "name": "stdout",
     "output_type": "stream",
     "text": [
      "Num training images:  11600\n",
      "Num test images:  2900\n"
     ]
    }
   ],
   "source": [
    "# Image to tensor\n",
    "def preprocess(img):  \n",
    "    img = img.resize((224,224)).convert('RGB')\n",
    "    tensor = transforms.ToTensor()(img)\n",
    "    return tensor\n",
    "\n",
    "# Load training data and fit to alexnet data\n",
    "train = datasets.ImageFolder(train_dir, transform=preprocess)\n",
    "test = datasets.ImageFolder(test_dir, transform=preprocess)\n",
    "\n",
    "print('Num training images: ', len(train))\n",
    "print('Num test images: ', len(test))"
   ]
  },
  {
   "cell_type": "code",
   "execution_count": 8,
   "metadata": {},
   "outputs": [],
   "source": [
    "# generate data loaders\n",
    "batch_size = 20\n",
    "num_workers = 0\n",
    "train_loader = torch.utils.data.DataLoader(train,batch_size=batch_size,shuffle=True,num_workers=num_workers)\n",
    "test_loader = torch.utils.data.DataLoader(test,batch_size=batch_size,shuffle=True,num_workers=num_workers)"
   ]
  },
  {
   "cell_type": "code",
   "execution_count": 9,
   "metadata": {},
   "outputs": [],
   "source": [
    "def extract_features(data_loader, output_path):\n",
    "    \n",
    "    num_batch = len(data_loader)\n",
    "    count = 0\n",
    "    try:\n",
    "        os.remove(output_path) # to erase previous version as it is mode 'a'\n",
    "    except FileNotFoundError:\n",
    "        pass\n",
    "\n",
    "    # extract features on a single line for each image\n",
    "    for batch, labels in data_loader:\n",
    "\n",
    "        feature_list = []\n",
    "        label_list = []\n",
    "\n",
    "        for idx, img in enumerate(batch):\n",
    "            features_extracted = conv_layer.features(img.reshape((1, 3, 224, 224)))\n",
    "            feature_list.append(features_extracted.detach().numpy().reshape((256 * 6 * 6)))\n",
    "            label_list.append(labels[idx].item())\n",
    "\n",
    "        row_features = pd.DataFrame(data=feature_list)\n",
    "        row_label = pd.DataFrame(data=label_list, columns=['label'])\n",
    "        row = pd.concat([row_features, row_label], axis=1)  \n",
    "        row.to_csv(output_path, mode='a', header=not os.path.exists(output_path), index=False)\n",
    "        count += 1\n",
    "\n",
    "        # display progress\n",
    "        clear_output(wait=True)\n",
    "        file_size = os.path.getsize(output_path)\n",
    "        print('batch %d/%d, %s file size: %.3f Mo'%(count, num_batch, output_path,  file_size/10**6))\n",
    "        print('Forectased csv size = %.2f Mo'%(num_batch/count*file_size/10**6))"
   ]
  },
  {
   "cell_type": "code",
   "execution_count": 10,
   "metadata": {},
   "outputs": [
    {
     "name": "stdout",
     "output_type": "stream",
     "text": [
      "batch 580/580, data/train_features.csv file size: 760.830 Mo\n",
      "Forectased csv size = 760.83 Mo\n",
      "Wall time: 29min 35s\n"
     ]
    }
   ],
   "source": [
    "%%time \n",
    "train_path = 'data/train_features.csv'\n",
    "extract_features(train_loader, train_path)"
   ]
  },
  {
   "cell_type": "code",
   "execution_count": 11,
   "metadata": {},
   "outputs": [
    {
     "name": "stdout",
     "output_type": "stream",
     "text": [
      "batch 145/145, data/test_features.csv file size: 190.557 Mo\n",
      "Forectased csv size = 190.56 Mo\n",
      "Wall time: 7min 21s\n"
     ]
    }
   ],
   "source": [
    "%%time \n",
    "test_path = 'data/test_features.csv'\n",
    "extract_features(test_loader, test_path)"
   ]
  },
  {
   "cell_type": "markdown",
   "metadata": {},
   "source": [
    "## Train classifier"
   ]
  },
  {
   "cell_type": "code",
   "execution_count": 12,
   "metadata": {},
   "outputs": [],
   "source": [
    "# Load datasets\n",
    "train_df = pd.read_csv(train_path)\n",
    "test_df = pd.read_csv(test_path)\n",
    "\n",
    "X_train = np.array(train_df[train_df.columns[~train_df.columns.isin(['label'])]])\n",
    "y_train = np.array(train_df['label'])\n",
    "X_test = np.array(test_df[test_df.columns[~test_df.columns.isin(['label'])]])\n",
    "y_test = np.array(test_df['label'])"
   ]
  },
  {
   "cell_type": "code",
   "execution_count": 13,
   "metadata": {},
   "outputs": [
    {
     "name": "stdout",
     "output_type": "stream",
     "text": [
      "X Train set: (11600, 9216)\n",
      "y Train set: (11600,)\n",
      "X Test set: (2900, 9216)\n",
      "y Test set: (2900,)\n"
     ]
    }
   ],
   "source": [
    "# Size of sets\n",
    "print(\"X Train set:\",X_train.shape)\n",
    "print(\"y Train set:\",y_train.shape)\n",
    "print(\"X Test set:\",X_test.shape)\n",
    "print(\"y Test set:\",y_test.shape)"
   ]
  },
  {
   "cell_type": "code",
   "execution_count": 14,
   "metadata": {
    "scrolled": false
   },
   "outputs": [
    {
     "name": "stdout",
     "output_type": "stream",
     "text": [
      "Fitting 3 folds for each of 1 candidates, totalling 3 fits\n"
     ]
    },
    {
     "name": "stderr",
     "output_type": "stream",
     "text": [
      "[Parallel(n_jobs=1)]: Using backend SequentialBackend with 1 concurrent workers.\n",
      "[Parallel(n_jobs=1)]: Done   3 out of   3 | elapsed:  6.2min finished\n"
     ]
    },
    {
     "name": "stdout",
     "output_type": "stream",
     "text": [
      "{'RDF__max_depth': None, 'RDF__n_estimators': 100}\n",
      "              precision    recall  f1-score   support\n",
      "\n",
      "           0       0.95      1.00      0.98        20\n",
      "           1       0.95      1.00      0.98        20\n",
      "           2       0.93      0.70      0.80        20\n",
      "           3       0.90      0.95      0.93        20\n",
      "           4       0.81      0.85      0.83        20\n",
      "           5       0.90      0.95      0.93        20\n",
      "           6       0.87      1.00      0.93        20\n",
      "           7       0.87      1.00      0.93        20\n",
      "           8       0.83      0.75      0.79        20\n",
      "           9       0.95      1.00      0.98        20\n",
      "          10       0.94      0.85      0.89        20\n",
      "          11       0.83      1.00      0.91        20\n",
      "          12       0.86      0.90      0.88        20\n",
      "          13       1.00      0.85      0.92        20\n",
      "          14       0.95      0.90      0.92        20\n",
      "          15       0.95      0.90      0.92        20\n",
      "          16       0.94      0.85      0.89        20\n",
      "          17       1.00      0.95      0.97        20\n",
      "          18       0.90      0.90      0.90        20\n",
      "          19       0.86      0.95      0.90        20\n",
      "          20       1.00      0.95      0.97        20\n",
      "          21       0.95      0.90      0.92        20\n",
      "          22       0.91      1.00      0.95        20\n",
      "          23       0.95      1.00      0.98        20\n",
      "          24       1.00      1.00      1.00        20\n",
      "          25       0.85      0.85      0.85        20\n",
      "          26       1.00      1.00      1.00        20\n",
      "          27       1.00      1.00      1.00        20\n",
      "          28       0.90      0.90      0.90        20\n",
      "          29       1.00      1.00      1.00        20\n",
      "          30       0.95      0.90      0.92        20\n",
      "          31       0.83      0.95      0.88        20\n",
      "          32       0.91      1.00      0.95        20\n",
      "          33       0.77      0.85      0.81        20\n",
      "          34       1.00      1.00      1.00        20\n",
      "          35       1.00      0.95      0.97        20\n",
      "          36       1.00      1.00      1.00        20\n",
      "          37       0.94      0.75      0.83        20\n",
      "          38       0.91      1.00      0.95        20\n",
      "          39       0.95      1.00      0.98        20\n",
      "          40       0.95      0.95      0.95        20\n",
      "          41       1.00      0.90      0.95        20\n",
      "          42       0.95      1.00      0.98        20\n",
      "          43       1.00      0.85      0.92        20\n",
      "          44       1.00      0.95      0.97        20\n",
      "          45       0.95      1.00      0.98        20\n",
      "          46       0.91      1.00      0.95        20\n",
      "          47       1.00      1.00      1.00        20\n",
      "          48       0.95      1.00      0.98        20\n",
      "          49       1.00      1.00      1.00        20\n",
      "          50       1.00      1.00      1.00        20\n",
      "          51       1.00      1.00      1.00        20\n",
      "          52       1.00      1.00      1.00        20\n",
      "          53       0.95      0.95      0.95        20\n",
      "          54       0.94      0.80      0.86        20\n",
      "          55       1.00      1.00      1.00        20\n",
      "          56       0.91      1.00      0.95        20\n",
      "          57       0.90      0.90      0.90        20\n",
      "          58       1.00      1.00      1.00        20\n",
      "          59       0.95      0.95      0.95        20\n",
      "          60       0.95      0.95      0.95        20\n",
      "          61       1.00      1.00      1.00        20\n",
      "          62       0.95      1.00      0.98        20\n",
      "          63       0.95      0.90      0.92        20\n",
      "          64       0.91      1.00      0.95        20\n",
      "          65       1.00      1.00      1.00        20\n",
      "          66       0.95      1.00      0.98        20\n",
      "          67       0.95      1.00      0.98        20\n",
      "          68       1.00      1.00      1.00        20\n",
      "          69       0.91      1.00      0.95        20\n",
      "          70       0.83      0.95      0.88        20\n",
      "          71       1.00      1.00      1.00        20\n",
      "          72       1.00      1.00      1.00        20\n",
      "          73       1.00      0.90      0.95        20\n",
      "          74       1.00      1.00      1.00        20\n",
      "          75       0.86      0.95      0.90        20\n",
      "          76       1.00      1.00      1.00        20\n",
      "          77       0.86      0.90      0.88        20\n",
      "          78       1.00      1.00      1.00        20\n",
      "          79       0.95      0.95      0.95        20\n",
      "          80       1.00      0.95      0.97        20\n",
      "          81       1.00      0.90      0.95        20\n",
      "          82       0.95      0.95      0.95        20\n",
      "          83       0.95      0.95      0.95        20\n",
      "          84       0.95      1.00      0.98        20\n",
      "          85       1.00      0.90      0.95        20\n",
      "          86       1.00      1.00      1.00        20\n",
      "          87       0.74      1.00      0.85        20\n",
      "          88       0.95      0.95      0.95        20\n",
      "          89       1.00      1.00      1.00        20\n",
      "          90       1.00      0.90      0.95        20\n",
      "          91       1.00      1.00      1.00        20\n",
      "          92       0.95      1.00      0.98        20\n",
      "          93       0.91      1.00      0.95        20\n",
      "          94       0.95      0.95      0.95        20\n",
      "          95       1.00      1.00      1.00        20\n",
      "          96       1.00      1.00      1.00        20\n",
      "          97       0.86      0.95      0.90        20\n",
      "          98       0.95      0.95      0.95        20\n",
      "          99       1.00      1.00      1.00        20\n",
      "         100       1.00      1.00      1.00        20\n",
      "         101       1.00      0.95      0.97        20\n",
      "         102       0.95      1.00      0.98        20\n",
      "         103       1.00      1.00      1.00        20\n",
      "         104       1.00      1.00      1.00        20\n",
      "         105       0.90      0.95      0.93        20\n",
      "         106       0.95      1.00      0.98        20\n",
      "         107       0.86      0.95      0.90        20\n",
      "         108       0.86      0.95      0.90        20\n",
      "         109       0.95      1.00      0.98        20\n",
      "         110       1.00      0.95      0.97        20\n",
      "         111       1.00      0.80      0.89        20\n",
      "         112       1.00      1.00      1.00        20\n",
      "         113       1.00      1.00      1.00        20\n",
      "         114       1.00      0.85      0.92        20\n",
      "         115       0.94      0.85      0.89        20\n",
      "         116       1.00      0.70      0.82        20\n",
      "         117       0.95      0.95      0.95        20\n",
      "         118       0.94      0.85      0.89        20\n",
      "         119       0.91      1.00      0.95        20\n",
      "         120       0.95      1.00      0.98        20\n",
      "         121       1.00      1.00      1.00        20\n",
      "         122       1.00      0.70      0.82        20\n",
      "         123       0.95      0.95      0.95        20\n",
      "         124       1.00      0.85      0.92        20\n",
      "         125       0.83      1.00      0.91        20\n",
      "         126       1.00      0.95      0.97        20\n",
      "         127       0.95      0.90      0.92        20\n",
      "         128       1.00      1.00      1.00        20\n",
      "         129       0.93      0.70      0.80        20\n",
      "         130       1.00      1.00      1.00        20\n",
      "         131       0.95      1.00      0.98        20\n",
      "         132       1.00      1.00      1.00        20\n",
      "         133       1.00      0.95      0.97        20\n",
      "         134       1.00      1.00      1.00        20\n",
      "         135       0.95      0.95      0.95        20\n",
      "         136       1.00      1.00      1.00        20\n",
      "         137       1.00      0.95      0.97        20\n",
      "         138       1.00      1.00      1.00        20\n",
      "         139       1.00      1.00      1.00        20\n",
      "         140       0.94      0.85      0.89        20\n",
      "         141       1.00      0.95      0.97        20\n",
      "         142       0.91      1.00      0.95        20\n",
      "         143       1.00      1.00      1.00        20\n",
      "         144       0.95      1.00      0.98        20\n",
      "\n",
      "    accuracy                           0.95      2900\n",
      "   macro avg       0.95      0.95      0.95      2900\n",
      "weighted avg       0.95      0.95      0.95      2900\n",
      "\n",
      "Wall time: 8min 42s\n"
     ]
    }
   ],
   "source": [
    "%%time\n",
    "# Cross-validator \n",
    "sss = StratifiedShuffleSplit(n_splits = 3, test_size = 0.2, random_state = 42)\n",
    "\n",
    "# Define classifier\n",
    "clf = RandomForestClassifier()\n",
    "\n",
    "# definition of the pipeline\n",
    "pipeline = Pipeline(steps = [\n",
    "    ('RDF',clf)\n",
    "])   \n",
    "\n",
    "# parameters to tune (best parameters already known)\n",
    "param_grid = {\n",
    "    'RDF__n_estimators': [100],\n",
    "    'RDF__max_depth': [None]\n",
    "} \n",
    "\n",
    "# exhaustive search over specified parameter\n",
    "grid = GridSearchCV(pipeline, param_grid, verbose = 1, cv = sss)\n",
    "\n",
    "# training classifier\n",
    "grid.fit(X_train, y_train)\n",
    "\n",
    "# best classifier\n",
    "clf = grid.best_estimator_\n",
    "\n",
    "# predicition with the classifier\n",
    "y_pred = clf.predict(X_test)\n",
    "\n",
    "# print grid best parameters\n",
    "print(grid.best_params_)\n",
    "\n",
    "# save classifier\n",
    "with open(\"data/classifier.pkl\", 'wb') as fid:\n",
    "    pk.dump(clf, fid)\n",
    "\n",
    "# classification report\n",
    "print(classification_report(y_test, y_pred))"
   ]
  },
  {
   "cell_type": "code",
   "execution_count": 20,
   "metadata": {},
   "outputs": [
    {
     "data": {
      "image/png": "[encoded data removed]",
      "text/plain": [
       "<Figure size 576x432 with 2 Axes>"
      ]
     },
     "metadata": {
      "needs_background": "light"
     },
     "output_type": "display_data"
    }
   ],
   "source": [
    "# Confusion matrix\n",
    "cm = pd.DataFrame(confusion_matrix(y_test, y_pred))\n",
    "cm.columns = os.listdir('data/train')\n",
    "cm.index = os.listdir('data/train')\n",
    "\n",
    "fig, ax = plt.subplots(figsize=(8, 6))\n",
    "sns.heatmap(\n",
    "    cm, \n",
    "    cmap='YlGnBu', \n",
    "    linewidths=0,\n",
    "    #linecolor='gray',\n",
    "    cbar_kws={\"shrink\": .8},\n",
    "    #annot = True,\n",
    "    fmt='d',\n",
    ")\n",
    "ax.set_yticklabels(ax.get_yticklabels(), rotation=0, horizontalalignment='right');"
   ]
  },
  {
   "cell_type": "markdown",
   "metadata": {},
   "source": [
    "### Show predictions on test sample"
   ]
  },
  {
   "cell_type": "code",
   "execution_count": 16,
   "metadata": {},
   "outputs": [],
   "source": [
    "# Load model\n",
    "conv_layer = models.alexnet(pretrained=True)\n",
    "with open(\"data/classifier.pkl\", 'rb') as fid:\n",
    "    clf_trained = pk.load(fid)"
   ]
  },
  {
   "cell_type": "code",
   "execution_count": 38,
   "metadata": {},
   "outputs": [],
   "source": [
    "def make_prediction(img):\n",
    "    features_extracted = conv_layer.features(preprocess(img).reshape((1, 3, 224, 224)))\n",
    "    conv_layer_output = features_extracted.detach().numpy().reshape((256 * 6 * 6))\n",
    "    return clf_trained.predict([conv_layer_output])[0]"
   ]
  },
  {
   "cell_type": "code",
   "execution_count": 36,
   "metadata": {},
   "outputs": [
    {
     "name": "stdout",
     "output_type": "stream",
     "text": [
      "predicted / actual\n"
     ]
    },
    {
     "data": {
      "image/png": "[encoded data removed]",
      "text/plain": [
       "<Figure size 1152x432 with 10 Axes>"
      ]
     },
     "metadata": {
      "needs_background": "light"
     },
     "output_type": "display_data"
    }
   ],
   "source": [
    "dic_class = {k:v for k,v in zip(range(1,len(os.listdir(test_dir))+1),os.listdir(test_dir))}\n",
    "\n",
    "fig,ax = plt.subplots(figsize=(16,6))\n",
    "\n",
    "lines=2\n",
    "cols=5\n",
    "print('predicted / actual')\n",
    "\n",
    "# prediction on sample from train dir\n",
    "for i in range(1,11):\n",
    "    rd_dir = random.sample(os.listdir(test_dir),1)[0]\n",
    "    sample = random.sample(os.listdir(train_dir+rd_dir),1)[0]\n",
    "    im = Image.open(train_dir+rd_dir+'/'+sample)\n",
    "    predicted_class = make_prediction(im)\n",
    "    plt.subplot(lines,cols,i)\n",
    "    plt.imshow(np.asarray(im))\n",
    "    plt.title('{} / {}'.format(dic_class[predicted_class],rd_dir))\n",
    "    plt.axis('off')"
   ]
  },
  {
   "cell_type": "code",
   "execution_count": 39,
   "metadata": {},
   "outputs": [],
   "source": [
    "def make_prediction_proba(img):\n",
    "    features_extracted = conv_layer.features(preprocess(img).reshape((1, 3, 224, 224)))\n",
    "    conv_layer_output = features_extracted.detach().numpy().reshape((256 * 6 * 6))\n",
    "    return clf_trained.predict_proba([conv_layer_output])[0]"
   ]
  },
  {
   "cell_type": "code",
   "execution_count": 83,
   "metadata": {},
   "outputs": [
    {
     "data": {
      "image/png": "[encoded data removed]",
      "text/plain": [
       "<Figure size 864x288 with 2 Axes>"
      ]
     },
     "metadata": {},
     "output_type": "display_data"
    }
   ],
   "source": [
    "rd_dir = random.sample(os.listdir(test_dir),1)[0]\n",
    "sample = random.sample(os.listdir(train_dir+rd_dir),1)[0]\n",
    "im = Image.open(train_dir+rd_dir+'/'+sample)\n",
    "\n",
    "results = pd.DataFrame({\n",
    "    'class':list(dic_class.values()),\n",
    "    'proba':make_prediction_proba(im),\n",
    "}).sort_values('proba',ascending=False).head()\n",
    "\n",
    "fig,ax = plt.subplots(figsize=(12,4))\n",
    "\n",
    "lines=1\n",
    "cols=2\n",
    "\n",
    "plt.subplot(lines,cols,1)\n",
    "plt.imshow(np.asarray(im))\n",
    "plt.axis('off')\n",
    "\n",
    "plt.subplot(lines,cols,2)\n",
    "sns.barplot(data=results, x='proba', y='class')\n",
    "plt.xlim(0,1);"
   ]
  },
  {
   "cell_type": "code",
   "execution_count": null,
   "metadata": {},
   "outputs": [],
   "source": []
  }
 ],
 "metadata": {
  "kernelspec": {
   "display_name": "Python 3",
   "language": "python",
   "name": "python3"
  },
  "language_info": {
   "codemirror_mode": {
    "name": "ipython",
    "version": 3
   },
   "file_extension": ".py",
   "mimetype": "text/x-python",
   "name": "python",
   "nbconvert_exporter": "python",
   "pygments_lexer": "ipython3",
   "version": "3.7.6"
  }
 },
 "nbformat": 4,
 "nbformat_minor": 4
}
