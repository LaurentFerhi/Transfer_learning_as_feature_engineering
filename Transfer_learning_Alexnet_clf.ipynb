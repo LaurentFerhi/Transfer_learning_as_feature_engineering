{
 "cells": [
  {
   "cell_type": "markdown",
   "metadata": {},
   "source": [
    "# Transfer learning\n",
    "TL of Alexnet with XGBoost as classifier applied to handwritten digits dataset"
   ]
  },
  {
   "cell_type": "code",
   "execution_count": 119,
   "metadata": {},
   "outputs": [],
   "source": [
    "import os\n",
    "from IPython.display import display, clear_output\n",
    "import shutil\n",
    "import random\n",
    "\n",
    "from PIL import Image\n",
    "import torch\n",
    "from torch import nn\n",
    "from torchvision import transforms\n",
    "from torchvision import datasets\n",
    "import torchvision.models as models\n",
    "\n",
    "import xgboost as xgb\n",
    "from sklearn.model_selection import train_test_split\n",
    "from sklearn.model_selection import StratifiedShuffleSplit\n",
    "from sklearn.pipeline import Pipeline\n",
    "from sklearn.model_selection import GridSearchCV\n",
    "from sklearn.metrics import confusion_matrix, classification_report\n",
    "\n",
    "import pandas as pd\n",
    "import numpy as np\n",
    "\n",
    "import matplotlib.pyplot as plt\n",
    "import seaborn as sns\n",
    "import pickle as pk"
   ]
  },
  {
   "cell_type": "markdown",
   "metadata": {},
   "source": [
    "### Make train and test directories"
   ]
  },
  {
   "cell_type": "code",
   "execution_count": 69,
   "metadata": {},
   "outputs": [],
   "source": [
    "# Create train and test folders\n",
    "for train_test_dir in ['train','test']:\n",
    "    try:\n",
    "        os.mkdir('data/'+train_test_dir)\n",
    "    except:\n",
    "        pass"
   ]
  },
  {
   "cell_type": "code",
   "execution_count": 70,
   "metadata": {},
   "outputs": [],
   "source": [
    "# Define training and test data directories\n",
    "data_dir = 'data/'\n",
    "dataset_dir = os.path.join(data_dir, 'dataset/')\n",
    "train_dir = os.path.join(data_dir, 'train/')\n",
    "test_dir = os.path.join(data_dir, 'test/')"
   ]
  },
  {
   "cell_type": "code",
   "execution_count": 71,
   "metadata": {},
   "outputs": [
    {
     "name": "stdout",
     "output_type": "stream",
     "text": [
      "Populate training set for class 0\n",
      "Populate test set for class 0\n",
      "Populate training set for class 1\n",
      "Populate test set for class 1\n",
      "Populate training set for class 2\n",
      "Populate test set for class 2\n",
      "Populate training set for class 3\n",
      "Populate test set for class 3\n",
      "Populate training set for class 4\n",
      "Populate test set for class 4\n",
      "Populate training set for class 5\n",
      "Populate test set for class 5\n",
      "Populate training set for class 6\n",
      "Populate test set for class 6\n",
      "Populate training set for class 7\n",
      "Populate test set for class 7\n",
      "Populate training set for class 8\n",
      "Populate test set for class 8\n",
      "Populate training set for class 9\n",
      "Populate test set for class 9\n"
     ]
    }
   ],
   "source": [
    "for subdir in os.listdir(dataset_dir):\n",
    "    l = os.listdir(dataset_dir+subdir)\n",
    "    train, test, _ , _ = train_test_split(l,[subdir for i in range(len(l))],test_size=0.2, random_state=42)\n",
    "    \n",
    "    # Create subdirectories in test and train folders\n",
    "    for train_test_dir in ['train/','test/']:\n",
    "        try:\n",
    "            os.mkdir('data/'+train_test_dir+subdir)\n",
    "        except:\n",
    "            pass\n",
    "    \n",
    "    # Populate train and test folders\n",
    "    print('Populate training set for class {}'.format(subdir))\n",
    "    for item in [dataset_dir+subdir+'/'+f for f in train] :\n",
    "        shutil.copy(item, train_dir+subdir)\n",
    "\n",
    "    print('Populate test set for class {}'.format(subdir))\n",
    "    for item in [dataset_dir+subdir+'/'+f for f in test] :\n",
    "        shutil.copy(item, test_dir+subdir)"
   ]
  },
  {
   "cell_type": "code",
   "execution_count": 114,
   "metadata": {
    "scrolled": false
   },
   "outputs": [
    {
     "data": {
      "image/png": "[encoded data removed]",
      "text/plain": [
       "<Figure size 864x144 with 10 Axes>"
      ]
     },
     "metadata": {
      "needs_background": "light"
     },
     "output_type": "display_data"
    }
   ],
   "source": [
    "fig,ax = plt.subplots(figsize=(12,2))\n",
    "\n",
    "lines=2\n",
    "cols = 5\n",
    "i=1\n",
    "\n",
    "# sample from train dir\n",
    "for subdir in os.listdir(train_dir):\n",
    "    sample = random.sample(os.listdir(train_dir+subdir),1)[0]\n",
    "    im = Image.open(train_dir+subdir+'/'+sample)\n",
    "    plt.subplot(lines,cols,i)\n",
    "    plt.imshow(np.asarray(im))\n",
    "    plt.axis('off')\n",
    "    i+=1"
   ]
  },
  {
   "cell_type": "markdown",
   "metadata": {},
   "source": [
    "### Extract features out of convolutional layer"
   ]
  },
  {
   "cell_type": "code",
   "execution_count": 72,
   "metadata": {},
   "outputs": [
    {
     "name": "stdout",
     "output_type": "stream",
     "text": [
      "Sequential(\n",
      "  (0): Conv2d(3, 64, kernel_size=(11, 11), stride=(4, 4), padding=(2, 2))\n",
      "  (1): ReLU(inplace=True)\n",
      "  (2): MaxPool2d(kernel_size=3, stride=2, padding=0, dilation=1, ceil_mode=False)\n",
      "  (3): Conv2d(64, 192, kernel_size=(5, 5), stride=(1, 1), padding=(2, 2))\n",
      "  (4): ReLU(inplace=True)\n",
      "  (5): MaxPool2d(kernel_size=3, stride=2, padding=0, dilation=1, ceil_mode=False)\n",
      "  (6): Conv2d(192, 384, kernel_size=(3, 3), stride=(1, 1), padding=(1, 1))\n",
      "  (7): ReLU(inplace=True)\n",
      "  (8): Conv2d(384, 256, kernel_size=(3, 3), stride=(1, 1), padding=(1, 1))\n",
      "  (9): ReLU(inplace=True)\n",
      "  (10): Conv2d(256, 256, kernel_size=(3, 3), stride=(1, 1), padding=(1, 1))\n",
      "  (11): ReLU(inplace=True)\n",
      "  (12): MaxPool2d(kernel_size=3, stride=2, padding=0, dilation=1, ceil_mode=False)\n",
      ")\n"
     ]
    }
   ],
   "source": [
    "torch.multiprocessing.set_sharing_strategy('file_system')\n",
    "\n",
    "# Load model\n",
    "conv_layer = models.alexnet(pretrained=True)\n",
    "print(conv_layer.features)"
   ]
  },
  {
   "cell_type": "code",
   "execution_count": 73,
   "metadata": {},
   "outputs": [
    {
     "name": "stdout",
     "output_type": "stream",
     "text": [
      "Num training images:  4239\n",
      "Num test images:  1065\n"
     ]
    }
   ],
   "source": [
    "# Image to tensor\n",
    "def preprocess(img):  \n",
    "    img = img.resize((224,224)).convert('RGB')\n",
    "    tensor = transforms.ToTensor()(img)\n",
    "    return tensor\n",
    "\n",
    "# Load training data and fit to alexnet data\n",
    "train = datasets.ImageFolder(train_dir, transform=preprocess)\n",
    "test = datasets.ImageFolder(test_dir, transform=preprocess)\n",
    "\n",
    "print('Num training images: ', len(train))\n",
    "print('Num test images: ', len(test))"
   ]
  },
  {
   "cell_type": "code",
   "execution_count": 74,
   "metadata": {},
   "outputs": [],
   "source": [
    "# generate data loaders\n",
    "batch_size = 20\n",
    "num_workers = 0\n",
    "train_loader = torch.utils.data.DataLoader(train,batch_size=batch_size,shuffle=True,num_workers=num_workers)\n",
    "test_loader = torch.utils.data.DataLoader(test,batch_size=batch_size,shuffle=True,num_workers=num_workers)"
   ]
  },
  {
   "cell_type": "code",
   "execution_count": 84,
   "metadata": {},
   "outputs": [],
   "source": [
    "def extract_features(data_loader, output_path):\n",
    "    \n",
    "    num_batch = len(data_loader)\n",
    "    count = 0\n",
    "    try:\n",
    "        os.remove(output_path) # to erase previous version as it is mode 'a'\n",
    "    except FileNotFoundError:\n",
    "        pass\n",
    "\n",
    "    # extract features on a single line for each image\n",
    "    for batch, labels in data_loader:\n",
    "\n",
    "        feature_list = []\n",
    "        label_list = []\n",
    "\n",
    "        for idx, img in enumerate(batch):\n",
    "            features_extracted = conv_layer.features(img.reshape((1, 3, 224, 224)))\n",
    "            feature_list.append(features_extracted.detach().numpy().reshape((256 * 6 * 6)))\n",
    "            label_list.append(labels[idx].item())\n",
    "\n",
    "        row_features = pd.DataFrame(data=feature_list)\n",
    "        row_label = pd.DataFrame(data=label_list, columns=['label'])\n",
    "        row = pd.concat([row_features, row_label], axis=1)  \n",
    "        row.to_csv(output_path, mode='a', header=not os.path.exists(output_path), index=False)\n",
    "        count += 1\n",
    "\n",
    "        # display progress\n",
    "        clear_output(wait=True)\n",
    "        file_size = os.path.getsize(output_path)\n",
    "        print('batch %d/%d, %s file size: %.3f Mo'%(count, num_batch, output_path,  file_size/10**6))\n",
    "        print('Forectased csv size = %.2f Mo'%(num_batch/count*file_size/10**6))"
   ]
  },
  {
   "cell_type": "code",
   "execution_count": 85,
   "metadata": {},
   "outputs": [
    {
     "name": "stdout",
     "output_type": "stream",
     "text": [
      "batch 212/212, data/train_features.csv file size: 262.088 Mo\n",
      "Forectased csv size = 262.09 Mo\n",
      "Wall time: 11min 19s\n"
     ]
    }
   ],
   "source": [
    "%%time \n",
    "train_path = 'data/train_features.csv'\n",
    "extract_features(train_loader, train_path)"
   ]
  },
  {
   "cell_type": "code",
   "execution_count": 86,
   "metadata": {},
   "outputs": [
    {
     "name": "stdout",
     "output_type": "stream",
     "text": [
      "batch 54/54, data/test_features.csv file size: 65.818 Mo\n",
      "Forectased csv size = 65.82 Mo\n",
      "Wall time: 2min 40s\n"
     ]
    }
   ],
   "source": [
    "%%time \n",
    "test_path = 'data/test_features.csv'\n",
    "extract_features(test_loader, test_path)"
   ]
  },
  {
   "cell_type": "markdown",
   "metadata": {},
   "source": [
    "## Train XGB classifier"
   ]
  },
  {
   "cell_type": "code",
   "execution_count": 115,
   "metadata": {},
   "outputs": [],
   "source": [
    "# Load datasets\n",
    "train_df = pd.read_csv(train_path)\n",
    "test_df = pd.read_csv(test_path)\n",
    "\n",
    "X_train = np.array(train_df[train_df.columns[~train_df.columns.isin(['label'])]])\n",
    "y_train = np.array(train_df['label'])\n",
    "X_test = np.array(test_df[test_df.columns[~test_df.columns.isin(['label'])]])\n",
    "y_test = np.array(test_df['label'])"
   ]
  },
  {
   "cell_type": "code",
   "execution_count": 116,
   "metadata": {},
   "outputs": [
    {
     "name": "stdout",
     "output_type": "stream",
     "text": [
      "X Train set: (4239, 9216)\n",
      "y Train set: (4239,)\n",
      "X Test set: (1065, 9216)\n",
      "y Test set: (1065,)\n"
     ]
    }
   ],
   "source": [
    "# Size of sets\n",
    "print(\"X Train set:\",X_train.shape)\n",
    "print(\"y Train set:\",y_train.shape)\n",
    "print(\"X Test set:\",X_test.shape)\n",
    "print(\"y Test set:\",y_test.shape)"
   ]
  },
  {
   "cell_type": "code",
   "execution_count": 125,
   "metadata": {
    "scrolled": false
   },
   "outputs": [
    {
     "name": "stdout",
     "output_type": "stream",
     "text": [
      "Fitting 3 folds for each of 1 candidates, totalling 3 fits\n"
     ]
    },
    {
     "name": "stderr",
     "output_type": "stream",
     "text": [
      "[Parallel(n_jobs=1)]: Using backend SequentialBackend with 1 concurrent workers.\n",
      "[Parallel(n_jobs=1)]: Done   3 out of   3 | elapsed:    9.5s finished\n"
     ]
    },
    {
     "name": "stdout",
     "output_type": "stream",
     "text": [
      "{}\n",
      "              precision    recall  f1-score   support\n",
      "\n",
      "           0       0.83      0.71      0.77       119\n",
      "           1       0.97      0.81      0.88       113\n",
      "           2       0.72      0.91      0.80        87\n",
      "           3       0.68      0.75      0.72       109\n",
      "           4       0.71      0.84      0.77       106\n",
      "           5       0.65      0.72      0.68        87\n",
      "           6       0.74      0.71      0.72       117\n",
      "           7       0.84      0.77      0.80       107\n",
      "           8       0.71      0.66      0.68       111\n",
      "           9       0.81      0.75      0.78       109\n",
      "\n",
      "    accuracy                           0.76      1065\n",
      "   macro avg       0.76      0.76      0.76      1065\n",
      "weighted avg       0.77      0.76      0.76      1065\n",
      "\n",
      "Wall time: 13.3 s\n"
     ]
    }
   ],
   "source": [
    "%%time\n",
    "# Cross-validator \n",
    "sss = StratifiedShuffleSplit(n_splits = 3, test_size = 0.2, random_state = 42)\n",
    "\n",
    "# Define classifier\n",
    "#clf = xgb.XGBClassifier()\n",
    "\n",
    "from sklearn.naive_bayes import GaussianNB\n",
    "clf = GaussianNB()\n",
    "\n",
    "# definition of the pipeline\n",
    "pipeline = Pipeline(steps = [\n",
    "    ('XGB',clf)\n",
    "])   \n",
    "\n",
    "# parameters to tune \n",
    "param_grid = {\n",
    "    #'XGB__n_estimators': [100, 150],\n",
    "    #'XGB__learning_rate': [0.01, 0.001]\n",
    "} \n",
    "\n",
    "# exhaustive search over specified parameter\n",
    "grid = GridSearchCV(pipeline, param_grid, verbose = 1, cv = sss)\n",
    "\n",
    "# training classifier\n",
    "grid.fit(X_train, y_train)\n",
    "\n",
    "# best classifier\n",
    "clf = grid.best_estimator_\n",
    "\n",
    "# predicition with the classifier\n",
    "y_pred = clf.predict(X_test)\n",
    "\n",
    "# print grid best parameters\n",
    "print(grid.best_params_)\n",
    "\n",
    "# save classifier\n",
    "with open(\"data/classifier.pkl\", 'wb') as fid:\n",
    "    pk.dump(clf, fid)\n",
    "\n",
    "# classification report\n",
    "print(classification_report(y_test, y_pred))"
   ]
  },
  {
   "cell_type": "code",
   "execution_count": 156,
   "metadata": {},
   "outputs": [
    {
     "data": {
      "image/png": "[encoded data removed]",
      "text/plain": [
       "<Figure size 576x432 with 2 Axes>"
      ]
     },
     "metadata": {
      "needs_background": "light"
     },
     "output_type": "display_data"
    }
   ],
   "source": [
    "# Confusion matrix\n",
    "cm = pd.DataFrame(confusion_matrix(y_test, y_pred))\n",
    "cm.columns = os.listdir('data/train')\n",
    "cm.index = os.listdir('data/train')\n",
    "\n",
    "fig, ax = plt.subplots(figsize=(8, 6))\n",
    "sns.heatmap(\n",
    "    cm, \n",
    "    cmap='YlGnBu', \n",
    "    linewidths=.2,\n",
    "    linecolor='gray',\n",
    "    cbar_kws={\"shrink\": .8},\n",
    "    annot = True,\n",
    "    fmt='d',\n",
    ")\n",
    "ax.set_yticklabels(ax.get_yticklabels(), rotation=0, horizontalalignment='right');"
   ]
  },
  {
   "cell_type": "markdown",
   "metadata": {},
   "source": [
    "### Show predictions on test sample"
   ]
  },
  {
   "cell_type": "code",
   "execution_count": 127,
   "metadata": {},
   "outputs": [],
   "source": [
    "# Load model\n",
    "conv_layer = models.alexnet(pretrained=True)\n",
    "with open(\"data/classifier.pkl\", 'rb') as fid:\n",
    "    clf_trained = pk.load(fid)"
   ]
  },
  {
   "cell_type": "code",
   "execution_count": 148,
   "metadata": {},
   "outputs": [],
   "source": [
    "def make_prediction(img):\n",
    "    features_extracted = conv_layer.features(preprocess(img).reshape((1, 3, 224, 224)))\n",
    "    conv_layer_output = features_extracted.detach().numpy().reshape((256 * 6 * 6))\n",
    "    return clf_trained.predict([conv_layer_output])[0]"
   ]
  },
  {
   "cell_type": "code",
   "execution_count": 154,
   "metadata": {},
   "outputs": [
    {
     "data": {
      "image/png": "[encoded data removed]",
      "text/plain": [
       "<Figure size 864x360 with 10 Axes>"
      ]
     },
     "metadata": {
      "needs_background": "light"
     },
     "output_type": "display_data"
    }
   ],
   "source": [
    "fig,ax = plt.subplots(figsize=(12,5))\n",
    "\n",
    "lines=2\n",
    "cols = 5\n",
    "i=1\n",
    "\n",
    "# prediction on sample from train dir\n",
    "for subdir in os.listdir(train_dir):\n",
    "    sample = random.sample(os.listdir(train_dir+subdir),1)[0]\n",
    "    im = Image.open(train_dir+subdir+'/'+sample)\n",
    "    predicted_class = make_prediction(im)\n",
    "    plt.subplot(lines,cols,i)\n",
    "    plt.imshow(np.asarray(im))\n",
    "    plt.title('predicted class: {}'.format(predicted_class))\n",
    "    plt.axis('off')\n",
    "    i+=1"
   ]
  },
  {
   "cell_type": "code",
   "execution_count": null,
   "metadata": {},
   "outputs": [],
   "source": []
  }
 ],
 "metadata": {
  "kernelspec": {
   "display_name": "Python 3",
   "language": "python",
   "name": "python3"
  },
  "language_info": {
   "codemirror_mode": {
    "name": "ipython",
    "version": 3
   },
   "file_extension": ".py",
   "mimetype": "text/x-python",
   "name": "python",
   "nbconvert_exporter": "python",
   "pygments_lexer": "ipython3",
   "version": "3.7.6"
  }
 },
 "nbformat": 4,
 "nbformat_minor": 4
}
